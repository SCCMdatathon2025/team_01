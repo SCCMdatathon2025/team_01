{
  "nbformat": 4,
  "nbformat_minor": 0,
  "metadata": {
    "colab": {
      "provenance": []
    },
    "kernelspec": {
      "name": "python3",
      "display_name": "Python 3"
    },
    "language_info": {
      "name": "python"
    }
  },
  "cells": [
    {
      "cell_type": "markdown",
      "source": [
        "# Introduction to midodrine examination"
      ],
      "metadata": {
        "id": "3llhZtxz6BSR"
      }
    },
    {
      "cell_type": "code",
      "source": [
        "from google.colab import auth\n",
        "auth.authenticate_user()\n",
        "from google.cloud import bigquery\n",
        "\n",
        "# Initialize client with project ID\n",
        "client = bigquery.Client(project='sccm-datathon-2025-participant')"
      ],
      "metadata": {
        "id": "X40eIIwn04mT"
      },
      "execution_count": 1,
      "outputs": []
    },
    {
      "cell_type": "code",
      "source": [
        "query = f\"\"\"\n",
        "\n",
        "WITH midodrine_meds AS (\n",
        "  SELECT DISTINCT\n",
        "    m.patientunitstayid,\n",
        "    m.drugname,\n",
        "    m.drugstartoffset,\n",
        "    m.drugstopoffset,\n",
        "    m.dosage,\n",
        "    m.routeadmin\n",
        "  FROM `sccm-discovery.eicu_crd_ii_v0_2_0.medication` m\n",
        "  WHERE (LOWER(m.drugname) LIKE '%midodrine%'\n",
        "         OR LOWER(m.drugname) LIKE '%proamatine%'\n",
        "         OR LOWER(m.drugname) LIKE '%orvaten%')\n",
        "      AND m.drugstartoffset IS NOT NULL\n",
        "      AND LOWER(COALESCE(m.routeadmin, '')) IN ('po', 'oral', 'enteral', 'gt', 'ng', 'peg', '')\n",
        ")\n",
        "SELECT * FROM midodrine_meds;\n",
        "\n",
        "\"\"\"\n",
        "midodrine_admin = client.query(query).to_dataframe()\n",
        "midodrine_admin"
      ],
      "metadata": {
        "id": "n5u-8r3vbro9"
      },
      "execution_count": null,
      "outputs": []
    },
    {
      "cell_type": "code",
      "source": [
        "query = f\"\"\"\n",
        "\n",
        "WITH medication_vaso AS (\n",
        "    SELECT DISTINCT\n",
        "        m.patientunitstayid,\n",
        "        m.drugname,\n",
        "        m.drugstartoffset,\n",
        "        m.drugstopoffset,\n",
        "        CASE\n",
        "            WHEN LOWER(m.drugname) LIKE '%norepinephrine%' OR LOWER(m.drugname) LIKE '%noradrenaline%' OR LOWER(m.drugname) LIKE '%levophed%' THEN 'norepinephrine'\n",
        "            WHEN LOWER(m.drugname) LIKE '%epinephrine%' OR LOWER(m.drugname) LIKE '%adrenaline%' THEN 'epinephrine'\n",
        "            WHEN LOWER(m.drugname) LIKE '%dopamine%' THEN 'dopamine'\n",
        "            WHEN LOWER(m.drugname) LIKE '%vasopressin%' OR LOWER(m.drugname) LIKE '%pitressin%' THEN 'vasopressin'\n",
        "            WHEN LOWER(m.drugname) LIKE '%phenylephrine%' OR LOWER(m.drugname) LIKE '%neosynephrine%' THEN 'phenylephrine'\n",
        "            WHEN LOWER(m.drugname) LIKE '%dobutamine%' THEN 'dobutamine'\n",
        "        END as vasopressor_type\n",
        "    FROM `sccm-discovery.eicu_crd_ii_v0_2_0.medication` m\n",
        "    WHERE (LOWER(m.drugname) LIKE '%norepinephrine%' OR LOWER(m.drugname) LIKE '%noradrenaline%' OR LOWER(m.drugname) LIKE '%levophed%'\n",
        "           OR LOWER(m.drugname) LIKE '%epinephrine%' OR LOWER(m.drugname) LIKE '%adrenaline%'\n",
        "           OR LOWER(m.drugname) LIKE '%dopamine%' OR LOWER(m.drugname) LIKE '%intropin%'\n",
        "           OR LOWER(m.drugname) LIKE '%vasopressin%' OR LOWER(m.drugname) LIKE '%pitressin%'\n",
        "           OR LOWER(m.drugname) LIKE '%phenylephrine%' OR LOWER(m.drugname) LIKE '%neosynephrine%'\n",
        "           OR LOWER(m.drugname) LIKE '%dobutamine%' OR LOWER(m.drugname) LIKE '%dobutrex%')\n",
        "        AND m.drugstartoffset IS NOT NULL\n",
        "),\n",
        "infusion_vaso AS (\n",
        "    SELECT DISTINCT\n",
        "        i.patientunitstayid,\n",
        "        i.drugname,\n",
        "        i.infusionoffset as drugstartoffset,\n",
        "        LEAD(i.infusionoffset) OVER (PARTITION BY i.patientunitstayid, i.drugname ORDER BY i.infusionoffset) as drugstopoffset,\n",
        "        CASE\n",
        "            WHEN LOWER(i.drugname) LIKE '%norepinephrine%' OR LOWER(i.drugname) LIKE '%noradrenaline%' THEN 'norepinephrine'\n",
        "            WHEN LOWER(i.drugname) LIKE '%epinephrine%' OR LOWER(i.drugname) LIKE '%adrenaline%' THEN 'epinephrine'\n",
        "            WHEN LOWER(i.drugname) LIKE '%dopamine%' THEN 'dopamine'\n",
        "            WHEN LOWER(i.drugname) LIKE '%vasopressin%' THEN 'vasopressin'\n",
        "            WHEN LOWER(i.drugname) LIKE '%phenylephrine%' THEN 'phenylephrine'\n",
        "            WHEN LOWER(i.drugname) LIKE '%dobutamine%' THEN 'dobutamine'\n",
        "        END as vasopressor_type\n",
        "    FROM `sccm-discovery.eicu_crd_ii_v0_2_0.infusiondrug` i\n",
        "    WHERE (LOWER(i.drugname) LIKE '%norepinephrine%' OR LOWER(i.drugname) LIKE '%noradrenaline%'\n",
        "           OR LOWER(i.drugname) LIKE '%epinephrine%' OR LOWER(i.drugname) LIKE '%adrenaline%'\n",
        "           OR LOWER(i.drugname) LIKE '%dopamine%' OR LOWER(i.drugname) LIKE '%vasopressin%'\n",
        "           OR LOWER(i.drugname) LIKE '%phenylephrine%' OR LOWER(i.drugname) LIKE '%dobutamine%')\n",
        "        AND SAFE_CAST(i.drugrate AS FLOAT64) > 0\n",
        "        AND i.infusionoffset IS NOT NULL\n",
        ")\n",
        "SELECT * FROM medication_vaso\n",
        "UNION ALL\n",
        "SELECT * FROM infusion_vaso;\n",
        "\n",
        "\n",
        "\"\"\"\n",
        "vasopressin_admin = client.query(query).to_dataframe()\n",
        "vasopressin_admin"
      ],
      "metadata": {
        "id": "_sEfLR1qbrmc"
      },
      "execution_count": null,
      "outputs": []
    },
    {
      "cell_type": "code",
      "source": [
        "query = f\"\"\"\n",
        "\n",
        "  SELECT distinct\n",
        "    p.patientunitstayid,\n",
        "    p.patienthealthsystemstayid,\n",
        "    p.hospitalid,\n",
        "    p.age,\n",
        "    p.gender,\n",
        "    p.ethnicity,\n",
        "    p.hospitaldischargeoffset,\n",
        "    p.unitdischargeoffset,\n",
        "    p.unittype,\n",
        "    CASE\n",
        "      WHEN p.age = '> 89' THEN 90\n",
        "      WHEN SAFE_CAST(p.age AS INT64) IS NOT NULL THEN SAFE_CAST(p.age AS INT64)\n",
        "      ELSE NULL\n",
        "    END as age_numeric\n",
        "  FROM `sccm-discovery.eicu_crd_ii_v0_2_0.patient` p\n",
        "  WHERE p.age != '' AND p.age IS NOT NULL\n",
        "\n",
        "\n",
        "\"\"\"\n",
        "patient_info = client.query(query).to_dataframe()\n",
        "patient_info"
      ],
      "metadata": {
        "id": "kgBRJDiXbrjz"
      },
      "execution_count": null,
      "outputs": []
    },
    {
      "cell_type": "code",
      "source": [
        "query = f\"\"\"\n",
        "\n",
        "\n",
        "\"\"\"\n",
        "client.query(query).to_dataframe()"
      ],
      "metadata": {
        "id": "gJneZYPWbrhB"
      },
      "execution_count": null,
      "outputs": []
    },
    {
      "cell_type": "code",
      "source": [
        "query = f\"\"\"\n",
        "\n",
        "\n",
        "\"\"\"\n",
        "client.query(query).to_dataframe()"
      ],
      "metadata": {
        "id": "yC0xYDCgbreJ"
      },
      "execution_count": null,
      "outputs": []
    },
    {
      "cell_type": "code",
      "source": [
        "query = f\"\"\"\n",
        "\n",
        "\n",
        "\"\"\"\n",
        "client.query(query).to_dataframe()"
      ],
      "metadata": {
        "id": "-fRszTnjbrbc"
      },
      "execution_count": null,
      "outputs": []
    },
    {
      "cell_type": "code",
      "source": [],
      "metadata": {
        "id": "CnAk9OqWbrYY"
      },
      "execution_count": null,
      "outputs": []
    }
  ]
}